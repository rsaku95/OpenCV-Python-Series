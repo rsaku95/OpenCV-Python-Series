{
  "nbformat": 4,
  "nbformat_minor": 0,
  "metadata": {
    "accelerator": "GPU",
    "colab": {
      "name": "Assignment_CNN_CIFAR10_Colab.ipynb",
      "provenance": [],
      "collapsed_sections": [],
      "toc_visible": true,
      "include_colab_link": true
    },
    "kernelspec": {
      "display_name": "Python 3",
      "language": "python",
      "name": "python3"
    },
    "language_info": {
      "codemirror_mode": {
        "name": "ipython",
        "version": 3
      },
      "file_extension": ".py",
      "mimetype": "text/x-python",
      "name": "python",
      "nbconvert_exporter": "python",
      "pygments_lexer": "ipython3",
      "version": "3.6.9"
    }
  },
  "cells": [
    {
      "cell_type": "markdown",
      "metadata": {
        "id": "view-in-github",
        "colab_type": "text"
      },
      "source": [
        "<a href=\"https://colab.research.google.com/github/rsaku95/OpenCV-Python-Series/blob/master/Assignment_CNN_CIFAR10_Colab.ipynb\" target=\"_parent\"><img src=\"https://colab.research.google.com/assets/colab-badge.svg\" alt=\"Open In Colab\"/></a>"
      ]
    },
    {
      "cell_type": "markdown",
      "metadata": {
        "id": "uW9Bg8A-JGaY",
        "nbgrader": {
          "grade": false,
          "locked": true,
          "solution": false
        }
      },
      "source": [
        "# <font style=\"color:blue\">Assignment: Implement a CNN for Image Classification on CIFAR10 dataset</font>\n",
        "\n",
        "We have seen how to implement a CNN (LeNet5 and LeNet with the batch norm) in the last section. We used MNIST and Fashion MNIST dataset which are grayscale or single channel datasets. In this assignment, you will implement a CNN Model ( similar to LeNet ) for classifying objects in the `CIFAR10` dataset. \n",
        "\n",
        "The CIFAR10 dataset has the following properties\n",
        "1. It has `10` classes.  \n",
        "1. It has colored images, so it has `3-channels`. \n",
        "1. The image shape is `32 x 32`.\n",
        "\n",
        "Samples of CIFAR10- dataset ([source](https://pytorch.org/tutorials/beginner/blitz/cifar10_tutorial.html?highlight=cifar)):\n",
        "\n",
        "<img src=\"https://www.learnopencv.com/wp-content/uploads/2020/01/c3_w3_cirar10.png\" width=700>\n",
        "\n",
        "\n",
        "# <font color='blue'>Marking Scheme</font>\n",
        "\n",
        "### <font style=\"color:green\">Maximum Points: 30\n",
        "\n",
        "<div>\n",
        "    <table>\n",
        "        <tr><td><h3>Sr. no.</h3></td> <td><h3>Problem</h3></td> <td><h3>Points</h3></td> </tr>\n",
        "        <tr><td><h3>1</h3></td> <td><h3>Implement the CNN Model</h3></td> <td><h3>10</h3></td> </tr>\n",
        "        <tr><td><h3>2</h3></td> <td><h3>Find Mean and Std of Training Data</h3></td> <td><h3>5</h3></td> </tr>\n",
        "        <tr><td><h3>3</h3></td> <td><h3>Model Training & Accuracy</h3></td> <td><h3>15</h3></td> </tr>\n",
        "    </table>\n",
        "</div>\n",
        "\n",
        "\n",
        "# <font color='blue'>Problem Description</font>\n",
        "\n",
        "### <font color='blue'>1. Implement the CNN Model</font>\n",
        "Since the task is to classify objects in a dataset of color images, you need to implement a CNN with 10 output classes. **Also, your model must use `Conv2d`, `BatchNorm2d`, and `ReLU`.** \n",
        "\n",
        "**You need to define the model architecture in the function: `MyModel` ( Step 1 )**\n",
        "\n",
        "Hint: For color images you need to use an input shape that is different than the ones we have been using till now, so that it accepts 3 channel inputs.\n",
        "\n",
        "### <font color='blue'>2. Find Mean and Std of Training Data</font>\n",
        "\n",
        "It is a good practice to normalize the training data. To normalize the data, we need to compute mean and std. As the dataset has colored images, it has `3-channel` (RGB or BGR). We have to find mean and std per channel using training data. \n",
        "\n",
        "**You need to compute the mean and std for the dataset in the function: `get_mean_std_train_data` ( Step 3 )**\n",
        "\n",
        "### <font color='blue'>3. Model Training and Accuracy</font>\n",
        "\n",
        "Once you have defined the model, you can train it. To get better accuracy, you need to play around the training configuration **( Step 5 )** and even the model architecture. You can check the accuracy by running the training loop in `Step 11`.\n",
        "\n",
        "Here are a few hints on how you can improve the accuracy:\n",
        "- Train for longer duration\n",
        "- Try with different learning rate\n",
        "- Try to add more convolutional layers to the architecture\n",
        "- Try to add more nodes in the layers.\n",
        "\n",
        "You need to achieve **75% accuracy** ( See Step11 ) in order to get full marks for this part. \n",
        "\n",
        "**You do not need to implement anything for this, just changing the parameters as mentioned above and running the Notebook will give you the accuracy. ( Step 5 and Step 11 )**"
      ]
    },
    {
      "cell_type": "code",
      "metadata": {
        "id": "zJmbahxxJGah",
        "nbgrader": {
          "grade": false,
          "locked": true,
          "solution": false
        }
      },
      "source": [
        "required_training = True"
      ],
      "execution_count": 1,
      "outputs": []
    },
    {
      "cell_type": "code",
      "metadata": {
        "id": "T6H2Qu9FJGak",
        "nbgrader": {
          "grade": false,
          "locked": true,
          "solution": false
        }
      },
      "source": [
        "%matplotlib inline"
      ],
      "execution_count": 2,
      "outputs": []
    },
    {
      "cell_type": "code",
      "metadata": {
        "id": "_mzyIelRJGao",
        "nbgrader": {
          "grade": false,
          "locked": true,
          "solution": false
        }
      },
      "source": [
        "import matplotlib.pyplot as plt  # one of the best graphics library for python"
      ],
      "execution_count": 3,
      "outputs": []
    },
    {
      "cell_type": "code",
      "metadata": {
        "id": "GUx0pTPAJGar",
        "nbgrader": {
          "grade": false,
          "locked": true,
          "solution": false
        }
      },
      "source": [
        "import os\n",
        "import time\n",
        "\n",
        "from typing import Iterable\n",
        "from dataclasses import dataclass\n",
        "\n",
        "import numpy as np\n",
        "import torch\n",
        "import torch.nn as nn\n",
        "import torch.optim as optim\n",
        "import torch.nn.functional as F\n",
        "\n",
        "from torchvision import datasets, transforms\n",
        "import torchvision"
      ],
      "execution_count": 4,
      "outputs": []
    },
    {
      "cell_type": "markdown",
      "metadata": {
        "id": "nOLoiGVlJGav"
      },
      "source": [
        "# <font style=\"color:blue\">1. CNN Model Architecture [10 Points]</font>\n",
        "\n",
        "You have to write the model code here. You can take reference from LeNet code.\n",
        "\n",
        "If you do not get higher accuracy, here are a few hints:\n",
        "- Try to add more convolutional layers to the architecture\n",
        "- Try to add more nodes in the layers.\n"
      ]
    },
    {
      "cell_type": "code",
      "metadata": {
        "id": "ZJygcZSaJGav"
      },
      "source": [
        "class MyModel(nn.Module):\n",
        "    def __init__(self):\n",
        "        super().__init__()\n",
        "\n",
        "        ### BEGIN SOLUTION\n",
        "        self.features = nn.Sequential(\n",
        "            # input_size = (32,32)\n",
        "            nn.Conv2d(in_channels=3 , out_channels=6, kernel_size=(5, 5), padding=1), #(30,30)\n",
        "            nn.BatchNorm2d(6),\n",
        "            nn.ReLU(inplace = True),\n",
        "            nn.MaxPool2d(kernel_size=3),\n",
        "            # Output_size = (15,15)\n",
        "            \n",
        "            nn.Conv2d(in_channels=6 , out_channels=16, kernel_size=(5, 5), padding=1), #(14,14)\n",
        "            nn.BatchNorm2d(16),\n",
        "            nn.ReLU(inplace = True),\n",
        "            nn.MaxPool2d(kernel_size=2),\n",
        "            # Output_size = (7,7)\n",
        "            \n",
        "            nn.Conv2d(in_channels=16 , out_channels=64, kernel_size=(3, 3),padding=1),#(6,6)\n",
        "            nn.BatchNorm2d(64),\n",
        "            nn.ReLU(inplace = True),\n",
        "            #nn.MaxPool2d(kernel_size=2),\n",
        "            # Output_size = (3,3)\n",
        "            \n",
        "            nn.Conv2d(in_channels= 64, out_channels= 128, kernel_size=(3,3),padding=1),\n",
        "            nn.BatchNorm2d(128),\n",
        "            nn.ReLU(inplace = True),\n",
        "            #nn.MaxPool2d(kernel_size=2)\n",
        "            \n",
        "            nn.Conv2d(in_channels= 128 , out_channels= 128, kernel_size=(3,3),padding=1),\n",
        "            nn.BatchNorm2d(128),\n",
        "            nn.ReLU(inplace = True),\n",
        "            nn.MaxPool2d(kernel_size=2)\n",
        "        )        \n",
        "        self.classifier = nn.Sequential(    \n",
        "            nn.Dropout(p=0.5, inplace=False),\n",
        "            nn.Linear(in_features=512, out_features=128, bias=True),\n",
        "            nn.ReLU(inplace=True),\n",
        "            \n",
        "            nn.Dropout(p=0.5, inplace=False),\n",
        "            nn.Linear(in_features=128, out_features=64, bias=True),\n",
        "            nn.ReLU(inplace = True),\n",
        "            \n",
        "            nn.Linear(in_features=64, out_features=10, bias=True)\n",
        "            \n",
        "            \n",
        "        )       \n",
        "        ### END SOLUTION\n",
        "        \n",
        "    def forward(self, x):\n",
        "        ### BEGIN SOLUTION\n",
        "        x = self.features(x)\n",
        "        x = x.view(x.size()[0], -1)\n",
        "        #x = self.avgpool(x)\n",
        "        x= self.classifier(x)        \n",
        "        \n",
        "        \n",
        "        ### END SOLUTION\n",
        "        \n",
        "        return x"
      ],
      "execution_count": 9,
      "outputs": []
    },
    {
      "cell_type": "markdown",
      "metadata": {
        "id": "hq46PTjsJGaz",
        "nbgrader": {
          "grade": false,
          "locked": true,
          "solution": false
        }
      },
      "source": [
        "# <font style=\"color:blue\">2. Display the Network</font>"
      ]
    },
    {
      "cell_type": "code",
      "metadata": {
        "id": "SDEEFkVoJGa0",
        "nbgrader": {
          "grade": false,
          "locked": true,
          "solution": false
        },
        "outputId": "d2e86316-a318-44da-c1d6-227766b7455a",
        "colab": {
          "base_uri": "https://localhost:8080/"
        }
      },
      "source": [
        "my_model = MyModel()\n",
        "print(my_model)"
      ],
      "execution_count": 10,
      "outputs": [
        {
          "output_type": "stream",
          "text": [
            "MyModel(\n",
            "  (features): Sequential(\n",
            "    (0): Conv2d(3, 6, kernel_size=(5, 5), stride=(1, 1), padding=(1, 1))\n",
            "    (1): BatchNorm2d(6, eps=1e-05, momentum=0.1, affine=True, track_running_stats=True)\n",
            "    (2): ReLU(inplace=True)\n",
            "    (3): MaxPool2d(kernel_size=3, stride=3, padding=0, dilation=1, ceil_mode=False)\n",
            "    (4): Conv2d(6, 16, kernel_size=(5, 5), stride=(1, 1), padding=(1, 1))\n",
            "    (5): BatchNorm2d(16, eps=1e-05, momentum=0.1, affine=True, track_running_stats=True)\n",
            "    (6): ReLU(inplace=True)\n",
            "    (7): MaxPool2d(kernel_size=2, stride=2, padding=0, dilation=1, ceil_mode=False)\n",
            "    (8): Conv2d(16, 64, kernel_size=(3, 3), stride=(1, 1), padding=(1, 1))\n",
            "    (9): BatchNorm2d(64, eps=1e-05, momentum=0.1, affine=True, track_running_stats=True)\n",
            "    (10): ReLU(inplace=True)\n",
            "    (11): Conv2d(64, 128, kernel_size=(3, 3), stride=(1, 1), padding=(1, 1))\n",
            "    (12): BatchNorm2d(128, eps=1e-05, momentum=0.1, affine=True, track_running_stats=True)\n",
            "    (13): ReLU(inplace=True)\n",
            "    (14): Conv2d(128, 128, kernel_size=(3, 3), stride=(1, 1), padding=(1, 1))\n",
            "    (15): BatchNorm2d(128, eps=1e-05, momentum=0.1, affine=True, track_running_stats=True)\n",
            "    (16): ReLU(inplace=True)\n",
            "    (17): MaxPool2d(kernel_size=2, stride=2, padding=0, dilation=1, ceil_mode=False)\n",
            "  )\n",
            "  (classifier): Sequential(\n",
            "    (0): Dropout(p=0.5, inplace=False)\n",
            "    (1): Linear(in_features=512, out_features=128, bias=True)\n",
            "    (2): ReLU(inplace=True)\n",
            "    (3): Dropout(p=0.5, inplace=False)\n",
            "    (4): Linear(in_features=128, out_features=64, bias=True)\n",
            "    (5): ReLU(inplace=True)\n",
            "    (6): Linear(in_features=64, out_features=10, bias=True)\n",
            "  )\n",
            ")\n"
          ],
          "name": "stdout"
        }
      ]
    },
    {
      "cell_type": "markdown",
      "metadata": {
        "id": "2qR75AnbJGa3",
        "lines_to_next_cell": 2,
        "nbgrader": {
          "grade": false,
          "locked": true,
          "solution": false
        }
      },
      "source": [
        "# <font style=\"color:blue\">3. Find Mean and STD of CIFAR10 Data [5 Points]</font>\n",
        "\n",
        "Function **`get_mean_std_train_data`** should `return` `mean` and `std` of training data. You can refer to the code used in the previous section for finding the mean and std of the training data.\n",
        "\n"
      ]
    },
    {
      "cell_type": "code",
      "metadata": {
        "id": "CW7B7G5cJGa4",
        "nbgrader": {
          "grade": false,
          "locked": false,
          "solution": false
        }
      },
      "source": [
        "def get_mean_std_train_data(data_root):\n",
        "    \n",
        "    train_transform = transforms.Compose([transforms.ToTensor()])\n",
        "    train_set = datasets.CIFAR10(root=data_root, train=True, download=True, transform=train_transform)\n",
        "    \n",
        "    # return mean (numpy.ndarray) and std (numpy.ndarray)\n",
        "    mean = np.array([0.5, 0.5, 0.5])\n",
        "    std = np.array([0.5, 0.5, 0.5])\n",
        "    \n",
        "    ### BEGIN SOLUTION\n",
        "    mean[0] =train_set.data[:, :, :, 0].float().mean()/255\n",
        "    std[0] = train_set.data[:, :, :, 0].float().std()/255\n",
        "    \n",
        "    mean[1] =train_set.data[:, :, :, 1].float().mean()/255\n",
        "    std[1] = train_set.data[:, :, :, 1].float().std()/255\n",
        "    \n",
        "    mean[2] =train_set.data[:, :, :, 2].float().mean()/255\n",
        "    std[2] = train_set.data[:, :, :, 2].float().std()/255\n",
        "    \n",
        "    \n",
        "    ### END SOLUTION\n",
        "    \n",
        "    return mean, std\n",
        "\n"
      ],
      "execution_count": 14,
      "outputs": []
    },
    {
      "cell_type": "code",
      "metadata": {
        "id": "zsnJTJNXJGa7",
        "nbgrader": {
          "grade": false,
          "locked": true,
          "solution": false
        }
      },
      "source": [
        "def get_data(batch_size, data_root, num_workers=1):\n",
        "    \n",
        "    \n",
        "    try:\n",
        "        mean, std = get_mean_std_train_data(data_root)\n",
        "        assert len(mean) == len(std) == 3\n",
        "    except:\n",
        "        mean = np.array([0.5, 0.5, 0.5])\n",
        "        std = np.array([0.5, 0.5, 0.5])\n",
        "        \n",
        "    \n",
        "    train_test_transforms = transforms.Compose([\n",
        "        # this re-scale image tensor values between 0-1. image_tensor /= 255\n",
        "        transforms.ToTensor(),\n",
        "        # subtract mean and divide by variance.\n",
        "        transforms.Normalize(mean, std)\n",
        "    ])\n",
        "    \n",
        "    # train dataloader\n",
        "    train_loader = torch.utils.data.DataLoader(\n",
        "        datasets.CIFAR10(root=data_root, train=True, download=False, transform=train_test_transforms),\n",
        "        batch_size=batch_size,\n",
        "        shuffle=True,\n",
        "        num_workers=num_workers\n",
        "    )\n",
        "    \n",
        "    # test dataloader\n",
        "    test_loader = torch.utils.data.DataLoader(\n",
        "        datasets.CIFAR10(root=data_root, train=False, download=False, transform=train_test_transforms),\n",
        "        batch_size=batch_size,\n",
        "        shuffle=False,\n",
        "        num_workers=num_workers\n",
        "    )\n",
        "    return train_loader, test_loader"
      ],
      "execution_count": 15,
      "outputs": []
    },
    {
      "cell_type": "markdown",
      "metadata": {
        "id": "03-ZuoXfJGa-",
        "nbgrader": {
          "grade": false,
          "locked": true,
          "solution": false
        }
      },
      "source": [
        "# <font style=\"color:blue\">4. System Configuration</font>\n"
      ]
    },
    {
      "cell_type": "code",
      "metadata": {
        "id": "u4LsyamkJGa_",
        "nbgrader": {
          "grade": false,
          "locked": true,
          "solution": false
        }
      },
      "source": [
        "@dataclass\n",
        "class SystemConfiguration:\n",
        "    '''\n",
        "    Describes the common system setting needed for reproducible training\n",
        "    '''\n",
        "    seed: int = 42  # seed number to set the state of all random number generators\n",
        "    cudnn_benchmark_enabled: bool = True  # enable CuDNN benchmark for the sake of performance\n",
        "    cudnn_deterministic: bool = True  # make cudnn deterministic (reproducible training)"
      ],
      "execution_count": 16,
      "outputs": []
    },
    {
      "cell_type": "markdown",
      "metadata": {
        "id": "HIIgMKe8JGbC",
        "nbgrader": {
          "grade": false,
          "locked": true,
          "solution": false
        }
      },
      "source": [
        "# <font style=\"color:blue\">5. Training Configuration [15 Points]</font>\n",
        "All training parameters are defined here. So, \n",
        "This is where you can improve your accuracy, apart from improving the architecture. \n",
        "\n",
        "Here are a few hints on how you can improve the accuracy:\n",
        "- Train for longer duration\n",
        "- Try with different learning rate\n",
        "\n",
        "**You need to achieve 75% accuracy in order to get full marks for this part.**\n",
        "\n",
        "**You will see the effect of these changes when you run Step 11**"
      ]
    },
    {
      "cell_type": "code",
      "metadata": {
        "id": "8qESDffIJGbD",
        "nbgrader": {
          "grade": false,
          "locked": false,
          "solution": false
        }
      },
      "source": [
        "@dataclass\n",
        "class TrainingConfiguration:\n",
        "    '''\n",
        "    Describes configuration of the training process\n",
        "    '''\n",
        "    #batch_size: int = 16  # amount of data to pass through the network at each forward-backward iteration\n",
        "    #epochs_count: int = 2  # number of times the whole dataset will be passed through the network\n",
        "    #learning_rate: float = 0.1  # determines the speed of network's weights update\n",
        "        \n",
        "    log_interval: int = 100  # how many batches to wait between logging training status\n",
        "    test_interval: int = 1  # how many epochs to wait before another test. Set to 1 to get val loss at each epoch\n",
        "    data_root: str = \"./\"  # folder to save data\n",
        "    num_workers: int = 10  # number of concurrent processes using to prepare data\n",
        "    device: str = 'cuda'  # device to use for training.\n",
        "    # update changed parameters in blow coding block.\n",
        "    # Please do not change \"data_root\" \n",
        "    \n",
        "    ### BEGIN SOLUTION\n",
        "    batch_size: int = 32\n",
        "    epochs_count: int = 20\n",
        "    learning_rate: float = 0.04\n",
        "    ### END SOLUTION\n"
      ],
      "execution_count": 40,
      "outputs": []
    },
    {
      "cell_type": "markdown",
      "metadata": {
        "id": "ZAQE-iZMJGbG",
        "nbgrader": {
          "grade": false,
          "locked": true,
          "solution": false
        }
      },
      "source": [
        "# <font style=\"color:blue\">6. System Setup</font>\n"
      ]
    },
    {
      "cell_type": "code",
      "metadata": {
        "id": "wdl_GzCqJGbG",
        "nbgrader": {
          "grade": false,
          "locked": true,
          "solution": false
        }
      },
      "source": [
        "def setup_system(system_config: SystemConfiguration) -> None:\n",
        "    torch.manual_seed(system_config.seed)\n",
        "    if torch.cuda.is_available():\n",
        "        torch.backends.cudnn_benchmark_enabled = system_config.cudnn_benchmark_enabled\n",
        "        torch.backends.cudnn.deterministic = system_config.cudnn_deterministic"
      ],
      "execution_count": 18,
      "outputs": []
    },
    {
      "cell_type": "markdown",
      "metadata": {
        "id": "R3OIPd3IJGbJ",
        "nbgrader": {
          "grade": false,
          "locked": true,
          "solution": false
        }
      },
      "source": [
        "# <font style=\"color:blue\">7. Training</font>\n",
        "We are familiar with the training pipeline used in PyTorch. The following steps are performed in the code below:\n",
        "\n",
        "1. Send the data to the required device ( CPU/GPU )\n",
        "1. Make a forward pass using the forward method.\n",
        "1. Find the loss using the Cross_Entropy function.\n",
        "1. Find the gradients using the backward function.\n",
        "1. Update the weights using the optimizer.\n",
        "1. Find the accuracy of the model\n",
        "\n",
        "Repeat the above for the specified number of epochs."
      ]
    },
    {
      "cell_type": "code",
      "metadata": {
        "id": "6EEHzywxJGbK",
        "nbgrader": {
          "grade": false,
          "locked": true,
          "solution": false
        }
      },
      "source": [
        "def train(\n",
        "    train_config: TrainingConfiguration, model: nn.Module, optimizer: torch.optim.Optimizer,\n",
        "    train_loader: torch.utils.data.DataLoader, epoch_idx: int\n",
        ") -> None:\n",
        "    \n",
        "    # change model in training mood\n",
        "    model.train()\n",
        "    \n",
        "    # to get batch loss\n",
        "    batch_loss = np.array([])\n",
        "    \n",
        "    # to get batch accuracy\n",
        "    batch_acc = np.array([])\n",
        "        \n",
        "    for batch_idx, (data, target) in enumerate(train_loader):\n",
        "        \n",
        "        # clone target\n",
        "        indx_target = target.clone()\n",
        "        # send data to device (its is medatory if GPU has to be used)\n",
        "        data = data.to(train_config.device)\n",
        "        # send target to device\n",
        "        target = target.to(train_config.device)\n",
        "\n",
        "        # reset parameters gradient to zero\n",
        "        optimizer.zero_grad()\n",
        "        \n",
        "        # forward pass to the model\n",
        "        output = model(data)\n",
        "        \n",
        "        # cross entropy loss\n",
        "        loss = F.cross_entropy(output, target)\n",
        "        \n",
        "        # find gradients w.r.t training parameters\n",
        "        loss.backward()\n",
        "        # Update parameters using gardients\n",
        "        optimizer.step()\n",
        "        \n",
        "        batch_loss = np.append(batch_loss, [loss.item()])\n",
        "        \n",
        "        # Score to probability using softmax\n",
        "        prob = F.softmax(output, dim=1)\n",
        "            \n",
        "        # get the index of the max probability\n",
        "        pred = prob.data.max(dim=1)[1]  \n",
        "                        \n",
        "        # correct prediction\n",
        "        correct = pred.cpu().eq(indx_target).sum()\n",
        "            \n",
        "        # accuracy\n",
        "        acc = float(correct) / float(len(data))\n",
        "        \n",
        "        batch_acc = np.append(batch_acc, [acc])\n",
        "\n",
        "        if batch_idx % train_config.log_interval == 0 and batch_idx > 0:              \n",
        "            print(\n",
        "                'Train Epoch: {} [{}/{}] Loss: {:.6f} Acc: {:.4f}'.format(\n",
        "                    epoch_idx, batch_idx * len(data), len(train_loader.dataset), loss.item(), acc\n",
        "                )\n",
        "            )\n",
        "            \n",
        "    epoch_loss = batch_loss.mean()\n",
        "    epoch_acc = batch_acc.mean()\n",
        "    return epoch_loss, epoch_acc"
      ],
      "execution_count": 19,
      "outputs": []
    },
    {
      "cell_type": "markdown",
      "metadata": {
        "id": "HQD5e4MvJGbN",
        "nbgrader": {
          "grade": false,
          "locked": true,
          "solution": false
        }
      },
      "source": [
        "# <font style=\"color:blue\">8. Validation</font>\n",
        "\n",
        "After every few epochs **`validation`** will be called with the `trained model` and `test_loader` to get validation loss and accuracy."
      ]
    },
    {
      "cell_type": "code",
      "metadata": {
        "id": "xfYIabotJGbO",
        "nbgrader": {
          "grade": false,
          "locked": true,
          "solution": false
        }
      },
      "source": [
        "def validate(\n",
        "    train_config: TrainingConfiguration,\n",
        "    model: nn.Module,\n",
        "    test_loader: torch.utils.data.DataLoader,\n",
        ") -> float:\n",
        "    model.eval()\n",
        "    test_loss = 0\n",
        "    count_corect_predictions = 0\n",
        "    for data, target in test_loader:\n",
        "        indx_target = target.clone()\n",
        "        data = data.to(train_config.device)\n",
        "        \n",
        "        target = target.to(train_config.device)\n",
        "        \n",
        "        output = model(data)\n",
        "        # add loss for each mini batch\n",
        "        test_loss += F.cross_entropy(output, target).item()\n",
        "        \n",
        "        # Score to probability using softmax\n",
        "        prob = F.softmax(output, dim=1)\n",
        "        \n",
        "        # get the index of the max probability\n",
        "        pred = prob.data.max(dim=1)[1] \n",
        "        \n",
        "        # add correct prediction count\n",
        "        count_corect_predictions += pred.cpu().eq(indx_target).sum()\n",
        "\n",
        "    # average over number of mini-batches\n",
        "    test_loss = test_loss / len(test_loader)  \n",
        "    \n",
        "    # average over number of dataset\n",
        "    accuracy = 100. * count_corect_predictions / len(test_loader.dataset)\n",
        "    \n",
        "    print(\n",
        "        '\\nTest set: Average loss: {:.4f}, Accuracy: {}/{} ({:.0f}%)\\n'.format(\n",
        "            test_loss, count_corect_predictions, len(test_loader.dataset), accuracy\n",
        "        )\n",
        "    )\n",
        "    return test_loss, accuracy/100.0"
      ],
      "execution_count": 20,
      "outputs": []
    },
    {
      "cell_type": "markdown",
      "metadata": {
        "id": "kllVaLMYJGbV",
        "nbgrader": {
          "grade": false,
          "locked": true,
          "solution": false
        }
      },
      "source": [
        "# <font style=\"color:blue\">9. Saving the Model</font>"
      ]
    },
    {
      "cell_type": "code",
      "metadata": {
        "id": "nX_5qui4JGbW",
        "nbgrader": {
          "grade": false,
          "locked": true,
          "solution": false
        }
      },
      "source": [
        "def save_model(model, device, model_dir='models', model_file_name='cifar10_cnn_model.pt'):\n",
        "    \n",
        "\n",
        "    if not os.path.exists(model_dir):\n",
        "        os.makedirs(model_dir)\n",
        "\n",
        "    model_path = os.path.join(model_dir, model_file_name)\n",
        "\n",
        "    # make sure you transfer the model to cpu.\n",
        "    if device == 'cuda':\n",
        "        model.to('cpu')\n",
        "\n",
        "    # save the state_dict\n",
        "    torch.save(model.state_dict(), model_path)\n",
        "    \n",
        "    if device == 'cuda':\n",
        "        model.to('cuda')\n",
        "    \n",
        "    return"
      ],
      "execution_count": 21,
      "outputs": []
    },
    {
      "cell_type": "markdown",
      "metadata": {
        "id": "eb-Z4XiHJGbZ",
        "nbgrader": {
          "grade": false,
          "locked": true,
          "solution": false
        }
      },
      "source": [
        "# <font style=\"color:blue\">10. Main</font>\n",
        "\n",
        "In this section of code, we use the configuration parameters defined above and start the training. Here are the important actions being taken in the code below:\n",
        "\n",
        "1. Set up system parameters like CPU/GPU, number of threads etc\n",
        "1. Load the data using dataloaders\n",
        "1. Create an instance of the LeNet model\n",
        "1. Specify optimizer to use.\n",
        "1. Set up variables to track loss and accuracy and start training.\n",
        "1. If loss decreases, saving the model"
      ]
    },
    {
      "cell_type": "code",
      "metadata": {
        "id": "iOKDxgpfJGbZ",
        "nbgrader": {
          "grade": false,
          "locked": true,
          "solution": false
        }
      },
      "source": [
        "def main(system_configuration=SystemConfiguration(), training_configuration=TrainingConfiguration()):\n",
        "    \n",
        "    # system configuration\n",
        "    setup_system(system_configuration)\n",
        "\n",
        "    # batch size\n",
        "    batch_size_to_set = training_configuration.batch_size\n",
        "    # num_workers\n",
        "    num_workers_to_set = training_configuration.num_workers\n",
        "    # epochs\n",
        "    epoch_num_to_set = training_configuration.epochs_count\n",
        "\n",
        "    # if GPU is available use training config, \n",
        "    # else lowers batch_size, num_workers and epochs count\n",
        "    if torch.cuda.is_available():\n",
        "        device = \"cuda\"\n",
        "    else:\n",
        "        device = \"cpu\"\n",
        "        num_workers_to_set = 2\n",
        "\n",
        "    # data loader\n",
        "    train_loader, test_loader = get_data(\n",
        "        batch_size=training_configuration.batch_size,\n",
        "        data_root=training_configuration.data_root,\n",
        "        num_workers=num_workers_to_set\n",
        "    )\n",
        "    \n",
        "    # Update training configuration\n",
        "    training_configuration = TrainingConfiguration(\n",
        "        device=device,\n",
        "        num_workers=num_workers_to_set\n",
        "    )\n",
        "\n",
        "    # initiate model\n",
        "    model = MyModel()\n",
        "\n",
        "    print(\"Training on {}\".format(training_configuration.device))\n",
        "        \n",
        "    # send model to device (GPU/CPU)\n",
        "    model.to(training_configuration.device)\n",
        "\n",
        "    # optimizer\n",
        "    optimizer = optim.SGD(\n",
        "        model.parameters(),\n",
        "        lr=training_configuration.learning_rate\n",
        "    )\n",
        "\n",
        "    best_loss = torch.tensor(np.inf)\n",
        "    best_accuracy = torch.tensor(0)\n",
        "    \n",
        "    # epoch train/test loss\n",
        "    epoch_train_loss = np.array([])\n",
        "    epoch_test_loss = np.array([])\n",
        "    \n",
        "    # epch train/test accuracy\n",
        "    epoch_train_acc = np.array([])\n",
        "    epoch_test_acc = np.array([])\n",
        "    \n",
        "    # trainig time measurement\n",
        "    t_begin = time.time()\n",
        "    for epoch in range(training_configuration.epochs_count):\n",
        "        \n",
        "        train_loss, train_acc = train(training_configuration, model, optimizer, train_loader, epoch)\n",
        "        \n",
        "        epoch_train_loss = np.append(epoch_train_loss, [train_loss])\n",
        "        \n",
        "        epoch_train_acc = np.append(epoch_train_acc, [train_acc])\n",
        "\n",
        "        elapsed_time = time.time() - t_begin\n",
        "        speed_epoch = elapsed_time / (epoch + 1)\n",
        "        speed_batch = speed_epoch / len(train_loader)\n",
        "        eta = speed_epoch * training_configuration.epochs_count - elapsed_time\n",
        "        \n",
        "        print(\n",
        "            \"Elapsed {:.2f}s, {:.2f} s/epoch, {:.2f} s/batch, ets {:.2f}s\".format(\n",
        "                elapsed_time, speed_epoch, speed_batch, eta\n",
        "            )\n",
        "        )\n",
        "\n",
        "        if epoch % training_configuration.test_interval == 0:\n",
        "            current_loss, current_accuracy = validate(training_configuration, model, test_loader)\n",
        "            \n",
        "            epoch_test_loss = np.append(epoch_test_loss, [current_loss])\n",
        "        \n",
        "            epoch_test_acc = np.append(epoch_test_acc, [current_accuracy])\n",
        "            \n",
        "            if current_loss < best_loss:\n",
        "                best_loss = current_loss\n",
        "            \n",
        "            if current_accuracy > best_accuracy:\n",
        "                best_accuracy = current_accuracy\n",
        "                print('Accuracy improved, saving the model.\\n')\n",
        "                save_model(model, device)\n",
        "            \n",
        "                \n",
        "    print(\"Total time: {:.2f}, Best Loss: {:.3f}, Best Accuracy: {:.3f}\".format(time.time() - t_begin, best_loss, \n",
        "                                                                                best_accuracy))\n",
        "    \n",
        "    return model, epoch_train_loss, epoch_train_acc, epoch_test_loss, epoch_test_acc"
      ],
      "execution_count": 22,
      "outputs": []
    },
    {
      "cell_type": "markdown",
      "metadata": {
        "id": "zll4UE--JGbd"
      },
      "source": [
        "# <font style=\"color:blue\">Step 11: Start Training</font>\n",
        "This is where you start the training. You may see that the training does not converge or does not give a good accuracy. You need to change \n",
        "- In Step 1: the network architecture and add a few more layers or more nodes to the already existing layers\n",
        "- In Step 5: training parameters such as learning rate or batch_size or epochs so that the network converges or run the network for longer so that it gets more time to fit the data\n",
        "\n",
        "**You need to make sure that the accuracy at the end is at least 75%.**"
      ]
    },
    {
      "cell_type": "code",
      "metadata": {
        "id": "X13F4qQCJGbe",
        "nbgrader": {
          "grade": false,
          "locked": true,
          "solution": false
        },
        "scrolled": true,
        "outputId": "f1b351b7-ebde-4d6e-a89c-8331d0476223",
        "colab": {
          "base_uri": "https://localhost:8080/"
        }
      },
      "source": [
        "if required_training:\n",
        "    model, epoch_train_loss, epoch_train_acc, epoch_test_loss, epoch_test_acc = main()"
      ],
      "execution_count": 37,
      "outputs": [
        {
          "output_type": "stream",
          "text": [
            "Files already downloaded and verified\n"
          ],
          "name": "stdout"
        },
        {
          "output_type": "stream",
          "text": [
            "/usr/local/lib/python3.7/dist-packages/torch/utils/data/dataloader.py:477: UserWarning: This DataLoader will create 10 worker processes in total. Our suggested max number of worker in current system is 2, which is smaller than what this DataLoader is going to create. Please be aware that excessive worker creation might get DataLoader running slow or even freeze, lower the worker number to avoid potential slowness/freeze if necessary.\n",
            "  cpuset_checked))\n"
          ],
          "name": "stderr"
        },
        {
          "output_type": "stream",
          "text": [
            "Training on cuda\n",
            "Train Epoch: 0 [3200/50000] Loss: 2.178726 Acc: 0.1562\n",
            "Train Epoch: 0 [6400/50000] Loss: 1.960067 Acc: 0.2812\n",
            "Train Epoch: 0 [9600/50000] Loss: 1.966499 Acc: 0.1562\n",
            "Train Epoch: 0 [12800/50000] Loss: 1.581152 Acc: 0.3750\n",
            "Train Epoch: 0 [16000/50000] Loss: 1.883233 Acc: 0.2812\n",
            "Train Epoch: 0 [19200/50000] Loss: 1.782045 Acc: 0.3438\n",
            "Train Epoch: 0 [22400/50000] Loss: 1.737240 Acc: 0.5000\n",
            "Train Epoch: 0 [25600/50000] Loss: 1.637552 Acc: 0.5312\n",
            "Train Epoch: 0 [28800/50000] Loss: 1.898355 Acc: 0.4062\n",
            "Train Epoch: 0 [32000/50000] Loss: 1.508798 Acc: 0.3750\n",
            "Train Epoch: 0 [35200/50000] Loss: 1.494882 Acc: 0.5000\n",
            "Train Epoch: 0 [38400/50000] Loss: 1.694184 Acc: 0.2812\n",
            "Train Epoch: 0 [41600/50000] Loss: 1.482563 Acc: 0.5625\n",
            "Train Epoch: 0 [44800/50000] Loss: 1.048315 Acc: 0.5625\n",
            "Train Epoch: 0 [48000/50000] Loss: 1.505470 Acc: 0.4062\n",
            "Elapsed 16.09s, 16.09 s/epoch, 0.01 s/batch, ets 305.62s\n",
            "\n",
            "Test set: Average loss: 1.3804, Accuracy: 5030/10000 (50%)\n",
            "\n",
            "Accuracy improved, saving the model.\n",
            "\n",
            "Train Epoch: 1 [3200/50000] Loss: 1.747836 Acc: 0.3750\n",
            "Train Epoch: 1 [6400/50000] Loss: 1.419770 Acc: 0.4062\n",
            "Train Epoch: 1 [9600/50000] Loss: 1.295055 Acc: 0.5312\n",
            "Train Epoch: 1 [12800/50000] Loss: 1.597647 Acc: 0.4062\n",
            "Train Epoch: 1 [16000/50000] Loss: 1.089802 Acc: 0.5625\n",
            "Train Epoch: 1 [19200/50000] Loss: 1.231007 Acc: 0.5312\n",
            "Train Epoch: 1 [22400/50000] Loss: 1.130535 Acc: 0.5625\n",
            "Train Epoch: 1 [25600/50000] Loss: 1.304367 Acc: 0.4688\n",
            "Train Epoch: 1 [28800/50000] Loss: 1.069824 Acc: 0.5312\n",
            "Train Epoch: 1 [32000/50000] Loss: 1.455250 Acc: 0.4375\n",
            "Train Epoch: 1 [35200/50000] Loss: 1.508644 Acc: 0.4375\n",
            "Train Epoch: 1 [38400/50000] Loss: 1.435953 Acc: 0.5312\n",
            "Train Epoch: 1 [41600/50000] Loss: 1.416083 Acc: 0.3438\n",
            "Train Epoch: 1 [44800/50000] Loss: 1.252651 Acc: 0.5312\n",
            "Train Epoch: 1 [48000/50000] Loss: 1.244458 Acc: 0.4375\n",
            "Elapsed 34.93s, 17.46 s/epoch, 0.01 s/batch, ets 314.33s\n",
            "\n",
            "Test set: Average loss: 1.2808, Accuracy: 5392/10000 (54%)\n",
            "\n",
            "Accuracy improved, saving the model.\n",
            "\n",
            "Train Epoch: 2 [3200/50000] Loss: 1.354071 Acc: 0.5625\n",
            "Train Epoch: 2 [6400/50000] Loss: 1.361092 Acc: 0.5312\n",
            "Train Epoch: 2 [9600/50000] Loss: 1.619268 Acc: 0.4375\n",
            "Train Epoch: 2 [12800/50000] Loss: 1.273000 Acc: 0.5000\n",
            "Train Epoch: 2 [16000/50000] Loss: 0.933297 Acc: 0.6250\n",
            "Train Epoch: 2 [19200/50000] Loss: 1.451620 Acc: 0.4062\n",
            "Train Epoch: 2 [22400/50000] Loss: 1.208442 Acc: 0.6250\n",
            "Train Epoch: 2 [25600/50000] Loss: 1.332990 Acc: 0.5312\n",
            "Train Epoch: 2 [28800/50000] Loss: 1.724177 Acc: 0.4688\n",
            "Train Epoch: 2 [32000/50000] Loss: 1.345189 Acc: 0.5938\n",
            "Train Epoch: 2 [35200/50000] Loss: 1.253074 Acc: 0.5000\n",
            "Train Epoch: 2 [38400/50000] Loss: 1.202493 Acc: 0.5000\n",
            "Train Epoch: 2 [41600/50000] Loss: 1.635315 Acc: 0.4375\n",
            "Train Epoch: 2 [44800/50000] Loss: 0.900859 Acc: 0.6250\n",
            "Train Epoch: 2 [48000/50000] Loss: 1.832093 Acc: 0.4688\n",
            "Elapsed 53.71s, 17.90 s/epoch, 0.01 s/batch, ets 304.38s\n",
            "\n",
            "Test set: Average loss: 1.2074, Accuracy: 5675/10000 (57%)\n",
            "\n",
            "Accuracy improved, saving the model.\n",
            "\n",
            "Train Epoch: 3 [3200/50000] Loss: 1.265466 Acc: 0.6562\n",
            "Train Epoch: 3 [6400/50000] Loss: 0.960461 Acc: 0.6562\n",
            "Train Epoch: 3 [9600/50000] Loss: 0.686041 Acc: 0.7188\n",
            "Train Epoch: 3 [12800/50000] Loss: 1.173447 Acc: 0.5938\n",
            "Train Epoch: 3 [16000/50000] Loss: 1.096596 Acc: 0.5938\n",
            "Train Epoch: 3 [19200/50000] Loss: 1.188096 Acc: 0.5938\n",
            "Train Epoch: 3 [22400/50000] Loss: 1.132846 Acc: 0.5938\n",
            "Train Epoch: 3 [25600/50000] Loss: 1.386993 Acc: 0.4688\n",
            "Train Epoch: 3 [28800/50000] Loss: 0.969965 Acc: 0.6562\n",
            "Train Epoch: 3 [32000/50000] Loss: 1.283685 Acc: 0.5000\n",
            "Train Epoch: 3 [35200/50000] Loss: 0.932092 Acc: 0.6875\n",
            "Train Epoch: 3 [38400/50000] Loss: 0.992816 Acc: 0.6562\n",
            "Train Epoch: 3 [41600/50000] Loss: 1.301834 Acc: 0.6250\n",
            "Train Epoch: 3 [44800/50000] Loss: 1.157448 Acc: 0.5938\n",
            "Train Epoch: 3 [48000/50000] Loss: 1.237167 Acc: 0.5312\n",
            "Elapsed 72.58s, 18.15 s/epoch, 0.01 s/batch, ets 290.33s\n",
            "\n",
            "Test set: Average loss: 1.1266, Accuracy: 6000/10000 (60%)\n",
            "\n",
            "Accuracy improved, saving the model.\n",
            "\n",
            "Train Epoch: 4 [3200/50000] Loss: 1.154728 Acc: 0.5312\n",
            "Train Epoch: 4 [6400/50000] Loss: 0.943539 Acc: 0.6562\n",
            "Train Epoch: 4 [9600/50000] Loss: 1.009050 Acc: 0.5312\n",
            "Train Epoch: 4 [12800/50000] Loss: 1.001771 Acc: 0.6875\n",
            "Train Epoch: 4 [16000/50000] Loss: 1.275725 Acc: 0.5625\n",
            "Train Epoch: 4 [19200/50000] Loss: 1.403323 Acc: 0.4062\n",
            "Train Epoch: 4 [22400/50000] Loss: 1.408969 Acc: 0.4375\n",
            "Train Epoch: 4 [25600/50000] Loss: 0.894118 Acc: 0.6875\n",
            "Train Epoch: 4 [28800/50000] Loss: 1.215433 Acc: 0.5625\n",
            "Train Epoch: 4 [32000/50000] Loss: 1.147490 Acc: 0.5625\n",
            "Train Epoch: 4 [35200/50000] Loss: 1.028657 Acc: 0.5938\n",
            "Train Epoch: 4 [38400/50000] Loss: 1.501907 Acc: 0.4062\n",
            "Train Epoch: 4 [41600/50000] Loss: 1.053285 Acc: 0.6875\n",
            "Train Epoch: 4 [44800/50000] Loss: 1.277545 Acc: 0.5938\n",
            "Train Epoch: 4 [48000/50000] Loss: 1.082348 Acc: 0.5938\n",
            "Elapsed 91.43s, 18.29 s/epoch, 0.01 s/batch, ets 274.29s\n",
            "\n",
            "Test set: Average loss: 1.1048, Accuracy: 6207/10000 (62%)\n",
            "\n",
            "Accuracy improved, saving the model.\n",
            "\n",
            "Train Epoch: 5 [3200/50000] Loss: 0.705595 Acc: 0.7812\n",
            "Train Epoch: 5 [6400/50000] Loss: 0.907589 Acc: 0.6562\n",
            "Train Epoch: 5 [9600/50000] Loss: 0.965157 Acc: 0.6875\n",
            "Train Epoch: 5 [12800/50000] Loss: 1.108820 Acc: 0.5312\n",
            "Train Epoch: 5 [16000/50000] Loss: 1.217526 Acc: 0.5625\n",
            "Train Epoch: 5 [19200/50000] Loss: 1.048300 Acc: 0.6250\n",
            "Train Epoch: 5 [22400/50000] Loss: 0.861628 Acc: 0.7812\n",
            "Train Epoch: 5 [25600/50000] Loss: 0.974521 Acc: 0.5625\n",
            "Train Epoch: 5 [28800/50000] Loss: 1.122246 Acc: 0.5000\n",
            "Train Epoch: 5 [32000/50000] Loss: 1.375737 Acc: 0.5938\n",
            "Train Epoch: 5 [35200/50000] Loss: 1.202649 Acc: 0.6562\n",
            "Train Epoch: 5 [38400/50000] Loss: 1.425201 Acc: 0.4688\n",
            "Train Epoch: 5 [41600/50000] Loss: 1.138126 Acc: 0.6562\n",
            "Train Epoch: 5 [44800/50000] Loss: 0.722859 Acc: 0.7812\n",
            "Train Epoch: 5 [48000/50000] Loss: 1.072557 Acc: 0.7188\n",
            "Elapsed 110.31s, 18.38 s/epoch, 0.01 s/batch, ets 257.39s\n",
            "\n",
            "Test set: Average loss: 1.0779, Accuracy: 6233/10000 (62%)\n",
            "\n",
            "Accuracy improved, saving the model.\n",
            "\n",
            "Train Epoch: 6 [3200/50000] Loss: 1.242959 Acc: 0.6250\n",
            "Train Epoch: 6 [6400/50000] Loss: 0.957235 Acc: 0.8125\n",
            "Train Epoch: 6 [9600/50000] Loss: 0.895804 Acc: 0.6250\n",
            "Train Epoch: 6 [12800/50000] Loss: 1.276480 Acc: 0.5625\n",
            "Train Epoch: 6 [16000/50000] Loss: 0.963834 Acc: 0.7188\n",
            "Train Epoch: 6 [19200/50000] Loss: 1.045294 Acc: 0.6250\n",
            "Train Epoch: 6 [22400/50000] Loss: 1.005686 Acc: 0.6875\n",
            "Train Epoch: 6 [25600/50000] Loss: 0.793109 Acc: 0.7812\n",
            "Train Epoch: 6 [28800/50000] Loss: 1.380052 Acc: 0.5000\n",
            "Train Epoch: 6 [32000/50000] Loss: 1.098709 Acc: 0.6562\n",
            "Train Epoch: 6 [35200/50000] Loss: 1.303024 Acc: 0.4062\n",
            "Train Epoch: 6 [38400/50000] Loss: 1.006890 Acc: 0.6562\n",
            "Train Epoch: 6 [41600/50000] Loss: 0.999884 Acc: 0.7188\n",
            "Train Epoch: 6 [44800/50000] Loss: 0.799137 Acc: 0.7500\n",
            "Train Epoch: 6 [48000/50000] Loss: 1.096150 Acc: 0.5938\n",
            "Elapsed 129.15s, 18.45 s/epoch, 0.01 s/batch, ets 239.84s\n",
            "\n",
            "Test set: Average loss: 0.9569, Accuracy: 6658/10000 (67%)\n",
            "\n",
            "Accuracy improved, saving the model.\n",
            "\n",
            "Train Epoch: 7 [3200/50000] Loss: 0.645610 Acc: 0.7188\n",
            "Train Epoch: 7 [6400/50000] Loss: 0.890989 Acc: 0.5938\n",
            "Train Epoch: 7 [9600/50000] Loss: 1.056449 Acc: 0.6250\n",
            "Train Epoch: 7 [12800/50000] Loss: 0.821042 Acc: 0.8125\n",
            "Train Epoch: 7 [16000/50000] Loss: 0.890188 Acc: 0.7812\n",
            "Train Epoch: 7 [19200/50000] Loss: 0.972560 Acc: 0.7188\n",
            "Train Epoch: 7 [22400/50000] Loss: 0.970720 Acc: 0.6562\n",
            "Train Epoch: 7 [25600/50000] Loss: 1.123334 Acc: 0.6250\n",
            "Train Epoch: 7 [28800/50000] Loss: 1.339365 Acc: 0.6875\n",
            "Train Epoch: 7 [32000/50000] Loss: 0.852368 Acc: 0.7188\n",
            "Train Epoch: 7 [35200/50000] Loss: 1.131667 Acc: 0.6875\n",
            "Train Epoch: 7 [38400/50000] Loss: 0.857296 Acc: 0.6562\n",
            "Train Epoch: 7 [41600/50000] Loss: 0.900545 Acc: 0.6562\n",
            "Train Epoch: 7 [44800/50000] Loss: 1.092677 Acc: 0.6562\n",
            "Train Epoch: 7 [48000/50000] Loss: 1.547178 Acc: 0.5000\n",
            "Elapsed 148.17s, 18.52 s/epoch, 0.01 s/batch, ets 222.26s\n",
            "\n",
            "Test set: Average loss: 0.9606, Accuracy: 6656/10000 (67%)\n",
            "\n",
            "Train Epoch: 8 [3200/50000] Loss: 0.890636 Acc: 0.7188\n",
            "Train Epoch: 8 [6400/50000] Loss: 1.067457 Acc: 0.5625\n",
            "Train Epoch: 8 [9600/50000] Loss: 0.859268 Acc: 0.6250\n",
            "Train Epoch: 8 [12800/50000] Loss: 0.946345 Acc: 0.6875\n",
            "Train Epoch: 8 [16000/50000] Loss: 1.072194 Acc: 0.7500\n",
            "Train Epoch: 8 [19200/50000] Loss: 1.303843 Acc: 0.5625\n",
            "Train Epoch: 8 [22400/50000] Loss: 0.945964 Acc: 0.5938\n",
            "Train Epoch: 8 [25600/50000] Loss: 0.731283 Acc: 0.7500\n",
            "Train Epoch: 8 [28800/50000] Loss: 1.114182 Acc: 0.5938\n",
            "Train Epoch: 8 [32000/50000] Loss: 1.100797 Acc: 0.6250\n",
            "Train Epoch: 8 [35200/50000] Loss: 1.141435 Acc: 0.5938\n",
            "Train Epoch: 8 [38400/50000] Loss: 0.827759 Acc: 0.5938\n",
            "Train Epoch: 8 [41600/50000] Loss: 1.027405 Acc: 0.5625\n",
            "Train Epoch: 8 [44800/50000] Loss: 0.752395 Acc: 0.7812\n",
            "Train Epoch: 8 [48000/50000] Loss: 1.027933 Acc: 0.5938\n",
            "Elapsed 167.38s, 18.60 s/epoch, 0.01 s/batch, ets 204.57s\n",
            "\n",
            "Test set: Average loss: 1.0055, Accuracy: 6547/10000 (65%)\n",
            "\n",
            "Train Epoch: 9 [3200/50000] Loss: 1.006915 Acc: 0.7188\n",
            "Train Epoch: 9 [6400/50000] Loss: 0.925183 Acc: 0.7188\n",
            "Train Epoch: 9 [9600/50000] Loss: 0.916304 Acc: 0.5938\n",
            "Train Epoch: 9 [12800/50000] Loss: 1.255329 Acc: 0.6250\n",
            "Train Epoch: 9 [16000/50000] Loss: 0.803790 Acc: 0.8125\n",
            "Train Epoch: 9 [19200/50000] Loss: 0.954253 Acc: 0.7500\n",
            "Train Epoch: 9 [22400/50000] Loss: 1.003343 Acc: 0.6875\n",
            "Train Epoch: 9 [25600/50000] Loss: 1.069822 Acc: 0.6250\n",
            "Train Epoch: 9 [28800/50000] Loss: 0.802451 Acc: 0.7500\n",
            "Train Epoch: 9 [32000/50000] Loss: 0.523424 Acc: 0.8750\n",
            "Train Epoch: 9 [35200/50000] Loss: 1.057719 Acc: 0.5938\n",
            "Train Epoch: 9 [38400/50000] Loss: 1.501829 Acc: 0.5625\n",
            "Train Epoch: 9 [41600/50000] Loss: 0.936756 Acc: 0.7812\n",
            "Train Epoch: 9 [44800/50000] Loss: 0.846873 Acc: 0.7188\n",
            "Train Epoch: 9 [48000/50000] Loss: 0.953051 Acc: 0.6875\n",
            "Elapsed 186.76s, 18.68 s/epoch, 0.01 s/batch, ets 186.76s\n",
            "\n",
            "Test set: Average loss: 1.0300, Accuracy: 6410/10000 (64%)\n",
            "\n",
            "Train Epoch: 10 [3200/50000] Loss: 0.764579 Acc: 0.6875\n",
            "Train Epoch: 10 [6400/50000] Loss: 0.801967 Acc: 0.7500\n",
            "Train Epoch: 10 [9600/50000] Loss: 1.098571 Acc: 0.5938\n",
            "Train Epoch: 10 [12800/50000] Loss: 0.724696 Acc: 0.6875\n",
            "Train Epoch: 10 [16000/50000] Loss: 0.735401 Acc: 0.7188\n",
            "Train Epoch: 10 [19200/50000] Loss: 1.049668 Acc: 0.5625\n",
            "Train Epoch: 10 [22400/50000] Loss: 0.949974 Acc: 0.7812\n",
            "Train Epoch: 10 [25600/50000] Loss: 1.372682 Acc: 0.5625\n",
            "Train Epoch: 10 [28800/50000] Loss: 0.990776 Acc: 0.6562\n",
            "Train Epoch: 10 [32000/50000] Loss: 0.918139 Acc: 0.7188\n",
            "Train Epoch: 10 [35200/50000] Loss: 0.800169 Acc: 0.7188\n",
            "Train Epoch: 10 [38400/50000] Loss: 0.931272 Acc: 0.5625\n",
            "Train Epoch: 10 [41600/50000] Loss: 0.794970 Acc: 0.6875\n",
            "Train Epoch: 10 [44800/50000] Loss: 1.207659 Acc: 0.5312\n",
            "Train Epoch: 10 [48000/50000] Loss: 0.848476 Acc: 0.7188\n",
            "Elapsed 205.83s, 18.71 s/epoch, 0.01 s/batch, ets 168.41s\n",
            "\n",
            "Test set: Average loss: 0.9319, Accuracy: 6791/10000 (68%)\n",
            "\n",
            "Accuracy improved, saving the model.\n",
            "\n",
            "Train Epoch: 11 [3200/50000] Loss: 0.915424 Acc: 0.7188\n",
            "Train Epoch: 11 [6400/50000] Loss: 0.590730 Acc: 0.8750\n",
            "Train Epoch: 11 [9600/50000] Loss: 0.909213 Acc: 0.7500\n",
            "Train Epoch: 11 [12800/50000] Loss: 0.738540 Acc: 0.7188\n",
            "Train Epoch: 11 [16000/50000] Loss: 0.718053 Acc: 0.8125\n",
            "Train Epoch: 11 [19200/50000] Loss: 1.054884 Acc: 0.6250\n",
            "Train Epoch: 11 [22400/50000] Loss: 0.908194 Acc: 0.7812\n",
            "Train Epoch: 11 [25600/50000] Loss: 0.725196 Acc: 0.6875\n",
            "Train Epoch: 11 [28800/50000] Loss: 0.991751 Acc: 0.5625\n",
            "Train Epoch: 11 [32000/50000] Loss: 0.849574 Acc: 0.7812\n",
            "Train Epoch: 11 [35200/50000] Loss: 1.134798 Acc: 0.6250\n",
            "Train Epoch: 11 [38400/50000] Loss: 0.891783 Acc: 0.7812\n",
            "Train Epoch: 11 [41600/50000] Loss: 1.044387 Acc: 0.5938\n",
            "Train Epoch: 11 [44800/50000] Loss: 0.521215 Acc: 0.8750\n",
            "Train Epoch: 11 [48000/50000] Loss: 0.905933 Acc: 0.6562\n",
            "Elapsed 224.92s, 18.74 s/epoch, 0.01 s/batch, ets 149.95s\n",
            "\n",
            "Test set: Average loss: 0.9598, Accuracy: 6801/10000 (68%)\n",
            "\n",
            "Accuracy improved, saving the model.\n",
            "\n",
            "Train Epoch: 12 [3200/50000] Loss: 0.645617 Acc: 0.7812\n",
            "Train Epoch: 12 [6400/50000] Loss: 0.869556 Acc: 0.6562\n",
            "Train Epoch: 12 [9600/50000] Loss: 0.832104 Acc: 0.7188\n",
            "Train Epoch: 12 [12800/50000] Loss: 0.841169 Acc: 0.6875\n",
            "Train Epoch: 12 [16000/50000] Loss: 1.005112 Acc: 0.6250\n",
            "Train Epoch: 12 [19200/50000] Loss: 0.418098 Acc: 0.8125\n",
            "Train Epoch: 12 [22400/50000] Loss: 0.730793 Acc: 0.7188\n",
            "Train Epoch: 12 [25600/50000] Loss: 0.929137 Acc: 0.6875\n",
            "Train Epoch: 12 [28800/50000] Loss: 0.776443 Acc: 0.7188\n",
            "Train Epoch: 12 [32000/50000] Loss: 0.785506 Acc: 0.7500\n",
            "Train Epoch: 12 [35200/50000] Loss: 0.762514 Acc: 0.7500\n",
            "Train Epoch: 12 [38400/50000] Loss: 0.654528 Acc: 0.8125\n",
            "Train Epoch: 12 [41600/50000] Loss: 1.193293 Acc: 0.5625\n",
            "Train Epoch: 12 [44800/50000] Loss: 0.448790 Acc: 0.8750\n",
            "Train Epoch: 12 [48000/50000] Loss: 0.592352 Acc: 0.7500\n",
            "Elapsed 243.91s, 18.76 s/epoch, 0.01 s/batch, ets 131.33s\n",
            "\n",
            "Test set: Average loss: 0.9287, Accuracy: 6831/10000 (68%)\n",
            "\n",
            "Accuracy improved, saving the model.\n",
            "\n",
            "Train Epoch: 13 [3200/50000] Loss: 0.932689 Acc: 0.7500\n",
            "Train Epoch: 13 [6400/50000] Loss: 0.712364 Acc: 0.7500\n",
            "Train Epoch: 13 [9600/50000] Loss: 0.846785 Acc: 0.5938\n",
            "Train Epoch: 13 [12800/50000] Loss: 0.989846 Acc: 0.7500\n",
            "Train Epoch: 13 [16000/50000] Loss: 0.522381 Acc: 0.8125\n",
            "Train Epoch: 13 [19200/50000] Loss: 0.715209 Acc: 0.7500\n",
            "Train Epoch: 13 [22400/50000] Loss: 0.781129 Acc: 0.5938\n",
            "Train Epoch: 13 [25600/50000] Loss: 1.029938 Acc: 0.6562\n",
            "Train Epoch: 13 [28800/50000] Loss: 1.262906 Acc: 0.5938\n",
            "Train Epoch: 13 [32000/50000] Loss: 0.712252 Acc: 0.7188\n",
            "Train Epoch: 13 [35200/50000] Loss: 0.980343 Acc: 0.6562\n",
            "Train Epoch: 13 [38400/50000] Loss: 0.707203 Acc: 0.7188\n",
            "Train Epoch: 13 [41600/50000] Loss: 0.590291 Acc: 0.8125\n",
            "Train Epoch: 13 [44800/50000] Loss: 0.864293 Acc: 0.6875\n",
            "Train Epoch: 13 [48000/50000] Loss: 0.804956 Acc: 0.7188\n",
            "Elapsed 262.81s, 18.77 s/epoch, 0.01 s/batch, ets 112.63s\n",
            "\n",
            "Test set: Average loss: 0.8786, Accuracy: 6912/10000 (69%)\n",
            "\n",
            "Accuracy improved, saving the model.\n",
            "\n",
            "Train Epoch: 14 [3200/50000] Loss: 0.449452 Acc: 0.8438\n",
            "Train Epoch: 14 [6400/50000] Loss: 1.073442 Acc: 0.6250\n",
            "Train Epoch: 14 [9600/50000] Loss: 0.929461 Acc: 0.6250\n",
            "Train Epoch: 14 [12800/50000] Loss: 0.723854 Acc: 0.7188\n",
            "Train Epoch: 14 [16000/50000] Loss: 0.674922 Acc: 0.7812\n",
            "Train Epoch: 14 [19200/50000] Loss: 0.999058 Acc: 0.7188\n",
            "Train Epoch: 14 [22400/50000] Loss: 0.515862 Acc: 0.8438\n",
            "Train Epoch: 14 [25600/50000] Loss: 0.880995 Acc: 0.6562\n",
            "Train Epoch: 14 [28800/50000] Loss: 0.732035 Acc: 0.6875\n",
            "Train Epoch: 14 [32000/50000] Loss: 1.182385 Acc: 0.5938\n",
            "Train Epoch: 14 [35200/50000] Loss: 0.717717 Acc: 0.7812\n",
            "Train Epoch: 14 [38400/50000] Loss: 0.622071 Acc: 0.7500\n",
            "Train Epoch: 14 [41600/50000] Loss: 0.589912 Acc: 0.7188\n",
            "Train Epoch: 14 [44800/50000] Loss: 0.825531 Acc: 0.7812\n",
            "Train Epoch: 14 [48000/50000] Loss: 0.791553 Acc: 0.7188\n",
            "Elapsed 281.83s, 18.79 s/epoch, 0.01 s/batch, ets 93.94s\n",
            "\n",
            "Test set: Average loss: 0.9253, Accuracy: 6834/10000 (68%)\n",
            "\n",
            "Train Epoch: 15 [3200/50000] Loss: 1.188535 Acc: 0.5938\n",
            "Train Epoch: 15 [6400/50000] Loss: 0.751928 Acc: 0.7500\n",
            "Train Epoch: 15 [9600/50000] Loss: 0.527542 Acc: 0.8438\n",
            "Train Epoch: 15 [12800/50000] Loss: 0.442656 Acc: 0.8750\n",
            "Train Epoch: 15 [16000/50000] Loss: 0.511560 Acc: 0.8125\n",
            "Train Epoch: 15 [19200/50000] Loss: 0.477419 Acc: 0.8438\n",
            "Train Epoch: 15 [22400/50000] Loss: 0.860491 Acc: 0.7188\n",
            "Train Epoch: 15 [25600/50000] Loss: 0.940966 Acc: 0.6875\n",
            "Train Epoch: 15 [28800/50000] Loss: 0.864227 Acc: 0.7188\n",
            "Train Epoch: 15 [32000/50000] Loss: 1.052216 Acc: 0.6250\n",
            "Train Epoch: 15 [35200/50000] Loss: 0.790417 Acc: 0.7188\n",
            "Train Epoch: 15 [38400/50000] Loss: 0.738541 Acc: 0.7812\n",
            "Train Epoch: 15 [41600/50000] Loss: 1.085857 Acc: 0.6562\n",
            "Train Epoch: 15 [44800/50000] Loss: 0.627623 Acc: 0.8438\n",
            "Train Epoch: 15 [48000/50000] Loss: 0.941648 Acc: 0.7188\n",
            "Elapsed 300.80s, 18.80 s/epoch, 0.01 s/batch, ets 75.20s\n",
            "\n",
            "Test set: Average loss: 0.8789, Accuracy: 7010/10000 (70%)\n",
            "\n",
            "Accuracy improved, saving the model.\n",
            "\n",
            "Train Epoch: 16 [3200/50000] Loss: 0.671979 Acc: 0.7188\n",
            "Train Epoch: 16 [6400/50000] Loss: 0.617367 Acc: 0.7500\n",
            "Train Epoch: 16 [9600/50000] Loss: 0.601725 Acc: 0.7812\n",
            "Train Epoch: 16 [12800/50000] Loss: 0.503139 Acc: 0.8438\n",
            "Train Epoch: 16 [16000/50000] Loss: 0.778326 Acc: 0.7500\n",
            "Train Epoch: 16 [19200/50000] Loss: 0.892223 Acc: 0.7500\n",
            "Train Epoch: 16 [22400/50000] Loss: 0.778410 Acc: 0.6875\n",
            "Train Epoch: 16 [25600/50000] Loss: 0.764966 Acc: 0.6562\n",
            "Train Epoch: 16 [28800/50000] Loss: 0.551369 Acc: 0.7500\n",
            "Train Epoch: 16 [32000/50000] Loss: 0.676619 Acc: 0.8125\n",
            "Train Epoch: 16 [35200/50000] Loss: 0.728455 Acc: 0.8125\n",
            "Train Epoch: 16 [38400/50000] Loss: 0.943200 Acc: 0.5938\n",
            "Train Epoch: 16 [41600/50000] Loss: 0.600266 Acc: 0.7812\n",
            "Train Epoch: 16 [44800/50000] Loss: 0.821298 Acc: 0.7500\n",
            "Train Epoch: 16 [48000/50000] Loss: 0.581253 Acc: 0.7812\n",
            "Elapsed 319.84s, 18.81 s/epoch, 0.01 s/batch, ets 56.44s\n",
            "\n",
            "Test set: Average loss: 0.9178, Accuracy: 6905/10000 (69%)\n",
            "\n",
            "Train Epoch: 17 [3200/50000] Loss: 0.637160 Acc: 0.7500\n",
            "Train Epoch: 17 [6400/50000] Loss: 0.870232 Acc: 0.6875\n",
            "Train Epoch: 17 [9600/50000] Loss: 0.837410 Acc: 0.7500\n",
            "Train Epoch: 17 [12800/50000] Loss: 0.550999 Acc: 0.8438\n",
            "Train Epoch: 17 [16000/50000] Loss: 0.861402 Acc: 0.6875\n",
            "Train Epoch: 17 [19200/50000] Loss: 0.458007 Acc: 0.7500\n",
            "Train Epoch: 17 [22400/50000] Loss: 0.499797 Acc: 0.7188\n",
            "Train Epoch: 17 [25600/50000] Loss: 0.660144 Acc: 0.8125\n",
            "Train Epoch: 17 [28800/50000] Loss: 0.901934 Acc: 0.6875\n",
            "Train Epoch: 17 [32000/50000] Loss: 0.945746 Acc: 0.6562\n",
            "Train Epoch: 17 [35200/50000] Loss: 0.530106 Acc: 0.7812\n",
            "Train Epoch: 17 [38400/50000] Loss: 0.841674 Acc: 0.7188\n",
            "Train Epoch: 17 [41600/50000] Loss: 0.716727 Acc: 0.7812\n",
            "Train Epoch: 17 [44800/50000] Loss: 0.908205 Acc: 0.6250\n",
            "Train Epoch: 17 [48000/50000] Loss: 0.909564 Acc: 0.7188\n",
            "Elapsed 339.17s, 18.84 s/epoch, 0.01 s/batch, ets 37.69s\n",
            "\n",
            "Test set: Average loss: 0.8661, Accuracy: 7079/10000 (71%)\n",
            "\n",
            "Accuracy improved, saving the model.\n",
            "\n",
            "Train Epoch: 18 [3200/50000] Loss: 0.825866 Acc: 0.6562\n",
            "Train Epoch: 18 [6400/50000] Loss: 0.928673 Acc: 0.6562\n",
            "Train Epoch: 18 [9600/50000] Loss: 1.033717 Acc: 0.6562\n",
            "Train Epoch: 18 [12800/50000] Loss: 0.663241 Acc: 0.7500\n",
            "Train Epoch: 18 [16000/50000] Loss: 0.505157 Acc: 0.8125\n",
            "Train Epoch: 18 [19200/50000] Loss: 0.773262 Acc: 0.7500\n",
            "Train Epoch: 18 [22400/50000] Loss: 0.512226 Acc: 0.7500\n",
            "Train Epoch: 18 [25600/50000] Loss: 0.725195 Acc: 0.7188\n",
            "Train Epoch: 18 [28800/50000] Loss: 0.426178 Acc: 0.8438\n",
            "Train Epoch: 18 [32000/50000] Loss: 0.672437 Acc: 0.7188\n",
            "Train Epoch: 18 [35200/50000] Loss: 0.713171 Acc: 0.8125\n",
            "Train Epoch: 18 [38400/50000] Loss: 0.850606 Acc: 0.6875\n",
            "Train Epoch: 18 [41600/50000] Loss: 0.642205 Acc: 0.7812\n",
            "Train Epoch: 18 [44800/50000] Loss: 0.819785 Acc: 0.6250\n",
            "Train Epoch: 18 [48000/50000] Loss: 0.732654 Acc: 0.7188\n",
            "Elapsed 358.13s, 18.85 s/epoch, 0.01 s/batch, ets 18.85s\n",
            "\n",
            "Test set: Average loss: 0.8459, Accuracy: 7156/10000 (72%)\n",
            "\n",
            "Accuracy improved, saving the model.\n",
            "\n",
            "Train Epoch: 19 [3200/50000] Loss: 0.862085 Acc: 0.7500\n",
            "Train Epoch: 19 [6400/50000] Loss: 0.786677 Acc: 0.7500\n",
            "Train Epoch: 19 [9600/50000] Loss: 1.036844 Acc: 0.7188\n",
            "Train Epoch: 19 [12800/50000] Loss: 0.491066 Acc: 0.8438\n",
            "Train Epoch: 19 [16000/50000] Loss: 0.810407 Acc: 0.6875\n",
            "Train Epoch: 19 [19200/50000] Loss: 0.578609 Acc: 0.8750\n",
            "Train Epoch: 19 [22400/50000] Loss: 0.825890 Acc: 0.8125\n",
            "Train Epoch: 19 [25600/50000] Loss: 0.732441 Acc: 0.7188\n",
            "Train Epoch: 19 [28800/50000] Loss: 0.535945 Acc: 0.8125\n",
            "Train Epoch: 19 [32000/50000] Loss: 0.788803 Acc: 0.7812\n",
            "Train Epoch: 19 [35200/50000] Loss: 0.637478 Acc: 0.7500\n",
            "Train Epoch: 19 [38400/50000] Loss: 0.836606 Acc: 0.6250\n",
            "Train Epoch: 19 [41600/50000] Loss: 0.578576 Acc: 0.7812\n",
            "Train Epoch: 19 [44800/50000] Loss: 0.973845 Acc: 0.6875\n",
            "Train Epoch: 19 [48000/50000] Loss: 1.159040 Acc: 0.6562\n",
            "Elapsed 376.66s, 18.83 s/epoch, 0.01 s/batch, ets 0.00s\n",
            "\n",
            "Test set: Average loss: 0.8905, Accuracy: 6996/10000 (70%)\n",
            "\n",
            "Total time: 379.47, Best Loss: 0.846, Best Accuracy: 0.716\n"
          ],
          "name": "stdout"
        }
      ]
    },
    {
      "cell_type": "markdown",
      "metadata": {
        "id": "jAy0TSpHJGbi",
        "nbgrader": {
          "grade": false,
          "locked": true,
          "solution": false
        }
      },
      "source": [
        "# <font style=\"color:blue\">12. Plot Loss</font>"
      ]
    },
    {
      "cell_type": "code",
      "metadata": {
        "id": "usF5DnpSJGbi",
        "lines_to_next_cell": 2,
        "nbgrader": {
          "grade": false,
          "locked": true,
          "solution": false
        },
        "outputId": "da2a23bf-2ec5-4e12-da47-e97f2b29dc2c",
        "colab": {
          "base_uri": "https://localhost:8080/",
          "height": 404
        }
      },
      "source": [
        "# Plot loss\n",
        "plt.rcParams[\"figure.figsize\"] = (10, 6)\n",
        "x = range(len(epoch_train_loss))\n",
        "\n",
        "\n",
        "plt.figure\n",
        "plt.plot(x, epoch_train_loss, color='r', label=\"train loss\")\n",
        "plt.plot(x, epoch_test_loss, color='b', label=\"validation loss\")\n",
        "plt.xlabel('epoch no.')\n",
        "plt.ylabel('loss')\n",
        "plt.legend(loc='upper right')\n",
        "plt.title('Training and Validation Loss')\n",
        "plt.show()"
      ],
      "execution_count": 38,
      "outputs": [
        {
          "output_type": "display_data",
          "data": {
            "image/png": "[encoded data removed]",
            "text/plain": [
              "<Figure size 720x432 with 1 Axes>"
            ]
          },
          "metadata": {
            "tags": [],
            "needs_background": "light"
          }
        }
      ]
    },
    {
      "cell_type": "markdown",
      "metadata": {
        "id": "my7EZy1MJGbl",
        "nbgrader": {
          "grade": false,
          "locked": true,
          "solution": false
        }
      },
      "source": [
        "# <font style=\"color:blue\">13. Plot Accuracy</font>"
      ]
    },
    {
      "cell_type": "code",
      "metadata": {
        "id": "N_LPC69oJGbm",
        "nbgrader": {
          "grade": false,
          "locked": true,
          "solution": false
        },
        "outputId": "d0be0b88-b07f-4f09-907f-4c008cfd54c0",
        "colab": {
          "base_uri": "https://localhost:8080/",
          "height": 404
        }
      },
      "source": [
        "# Plot loss\n",
        "plt.rcParams[\"figure.figsize\"] = (10, 6)\n",
        "x = range(len(epoch_train_loss))\n",
        "\n",
        "\n",
        "plt.figure\n",
        "plt.plot(x, epoch_train_acc, color='r', label=\"train accuracy\")\n",
        "plt.plot(x, epoch_test_acc, color='b', label=\"validation accuracy\")\n",
        "plt.xlabel('epoch no.')\n",
        "plt.ylabel('accuracy')\n",
        "plt.legend(loc='center right')\n",
        "plt.title('Training and Validation Accuracy')\n",
        "plt.show()"
      ],
      "execution_count": 39,
      "outputs": [
        {
          "output_type": "display_data",
          "data": {
            "image/png": "[encoded data removed]",
            "text/plain": [
              "<Figure size 720x432 with 1 Axes>"
            ]
          },
          "metadata": {
            "tags": [],
            "needs_background": "light"
          }
        }
      ]
    },
    {
      "cell_type": "markdown",
      "metadata": {
        "id": "W_q1qekQJGbp",
        "nbgrader": {
          "grade": false,
          "locked": true,
          "solution": false
        }
      },
      "source": [
        "# <font style=\"color:blue\">14. Loading the Model </font>\n"
      ]
    },
    {
      "cell_type": "code",
      "metadata": {
        "id": "WM-icBgDJGbp",
        "nbgrader": {
          "grade": false,
          "locked": true,
          "solution": false
        }
      },
      "source": [
        "# initialize the model\n",
        "cnn_model = MyModel()\n",
        "\n",
        "models = 'models'\n",
        "\n",
        "model_file_name = 'cifar10_cnn_model.pt'\n",
        "\n",
        "model_path = os.path.join(models, model_file_name)\n",
        "\n",
        "# loading the model and getting model parameters by using load_state_dict\n",
        "cnn_model.load_state_dict(torch.load(model_path))"
      ],
      "execution_count": null,
      "outputs": []
    },
    {
      "cell_type": "markdown",
      "metadata": {
        "id": "nF5uuusgJGbs",
        "nbgrader": {
          "grade": false,
          "locked": true,
          "solution": false
        }
      },
      "source": [
        "# <font style=\"color:blue\">15. Model Prediction</font>\n"
      ]
    },
    {
      "cell_type": "code",
      "metadata": {
        "id": "hyAmSgK2JGbs",
        "nbgrader": {
          "grade": false,
          "locked": true,
          "solution": false
        }
      },
      "source": [
        "def prediction(model, train_config, batch_input):\n",
        "    \n",
        "    # send model to cpu/cuda according to your system configuration\n",
        "    model.to(train_config.device)\n",
        "    \n",
        "    # it is important to do model.eval() before prediction\n",
        "    model.eval()\n",
        "\n",
        "    data = batch_input.to(train_config.device)\n",
        "\n",
        "    output = model(data)\n",
        "\n",
        "    # Score to probability using softmax\n",
        "    prob = F.softmax(output, dim=1)\n",
        "\n",
        "    # get the max probability\n",
        "    pred_prob = prob.data.max(dim=1)[0]\n",
        "    \n",
        "    # get the index of the max probability\n",
        "    pred_index = prob.data.max(dim=1)[1]\n",
        "    \n",
        "    return pred_index.cpu().numpy(), pred_prob.cpu().numpy()"
      ],
      "execution_count": null,
      "outputs": []
    },
    {
      "cell_type": "markdown",
      "metadata": {
        "id": "iaGRXs4HJGbx",
        "nbgrader": {
          "grade": false,
          "locked": true,
          "solution": false
        }
      },
      "source": [
        "# <font style=\"color:blue\">16. Perform Inference on sample images </font>\n",
        "\n",
        "For prediction, we need to transform the data in the same way as we have done during training. "
      ]
    },
    {
      "cell_type": "code",
      "metadata": {
        "id": "0L5ecPKtJGbx",
        "lines_to_next_cell": 2,
        "nbgrader": {
          "grade": false,
          "locked": true,
          "solution": false
        }
      },
      "source": [
        "classes = ('plane', 'car', 'bird', 'cat', 'deer', 'dog', 'frog', 'horse', 'ship', 'truck')\n",
        "\n",
        "batch_size = 5\n",
        "train_config = TrainingConfiguration()\n",
        "\n",
        "if torch.cuda.is_available():\n",
        "    train_config.device = \"cuda\"\n",
        "else:\n",
        "    train_config.device = \"cpu\"\n",
        "    \n",
        "    \n",
        "\n",
        "# load test data without image transformation\n",
        "test = torch.utils.data.DataLoader(\n",
        "    datasets.CIFAR10(root=train_config.data_root, train=False, download=False, \n",
        "                   transform=transforms.functional.to_tensor),\n",
        "    batch_size=batch_size,\n",
        "    shuffle=False,\n",
        "    num_workers=1\n",
        "    )\n",
        "\n",
        "try:\n",
        "    mean, std = get_mean_std_train_data(data_root)\n",
        "    assert len(mean) == len(std) == 3\n",
        "except:\n",
        "    mean = (0.5, 0.5, 0.5)\n",
        "    std = (0.5, 0.5, 0.5)\n",
        "\n",
        "# load testdata with image transformation\n",
        "image_transforms = transforms.Compose([\n",
        "    transforms.ToTensor(),\n",
        "    transforms.Normalize(mean, std)\n",
        "    ])\n",
        "\n",
        "test_trans = torch.utils.data.DataLoader(\n",
        "    datasets.CIFAR10(root=train_config.data_root, train=False, download=False, transform=image_transforms),\n",
        "    batch_size=batch_size,\n",
        "    shuffle=False,\n",
        "    num_workers=1\n",
        "    )\n",
        "\n",
        "for data, _ in test_trans:\n",
        "    # pass the loaded model\n",
        "    pred, prob = prediction(cnn_model, train_config, data)\n",
        "    break\n",
        "    \n",
        "\n",
        "plt.rcParams[\"figure.figsize\"] = (3, 3)\n",
        "for images, label in test:\n",
        "    for i, img in enumerate(images):\n",
        "        img = transforms.functional.to_pil_image(img)\n",
        "        plt.imshow(img)\n",
        "        plt.gca().set_title('Pred: {0}({1:0.2}), Label: {2}'.format(classes[pred[i]], prob[i], classes[label[i]]))\n",
        "        plt.show()\n",
        "    break"
      ],
      "execution_count": null,
      "outputs": []
    },
    {
      "cell_type": "markdown",
      "metadata": {
        "id": "nvMswVmpJGb1"
      },
      "source": [
        "# <font style=\"color:blue\">17. Report your findings</font>\n",
        "- \n",
        "- "
      ]
    },
    {
      "cell_type": "markdown",
      "metadata": {
        "id": "yTVSVzjFJGb2",
        "nbgrader": {
          "grade": false,
          "locked": true,
          "solution": false
        }
      },
      "source": [
        "# <font style=\"color:blue\">References</font>\n",
        "\n",
        "1. https://pytorch.org/tutorials/beginner/data_loading_tutorial.html\n",
        "1. https://pytorch.org/tutorials/beginner/saving_loading_models.html"
      ]
    }
  ]
}